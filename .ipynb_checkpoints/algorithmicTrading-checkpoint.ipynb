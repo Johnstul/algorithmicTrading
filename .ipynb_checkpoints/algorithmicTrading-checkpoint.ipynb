{
 "cells": [
  {
   "cell_type": "markdown",
   "metadata": {},
   "source": [
    "### Project description:\n",
    "+ Finding SMA Crossover Strategy"
   ]
  },
  {
   "cell_type": "code",
   "execution_count": 56,
   "metadata": {},
   "outputs": [],
   "source": [
    "# project dependencies\n",
    "import pandas as pd\n",
    "import numpy as np\n",
    "import matplotlib.pyplot as plt\n",
    "import requests \n",
    "from collections import Counter"
   ]
  },
  {
   "cell_type": "code",
   "execution_count": 57,
   "metadata": {},
   "outputs": [],
   "source": [
    "# Creating first test case by initiating the first dataframe for UCO\n",
    "\n",
    "# URL >> https://query1.finance.yahoo.com/v8/finance/chart/{$symbol}?range={$range}&interval={$interval}\n",
    "# symbol >> the stock ticker symbol, e.g. AAPL for Apple\n",
    "# range >> the desired range of the query, allowed parameters are [1d, 5d, 1mo, 3mo, 6mo, 1y, 2y, 5y, 10y, ytd, max]\n",
    "# interval >> the desired interval of the quote, e.g. every 5 minutes, allowed parameters are [1m, 2m, 5m, 15m, 30m, 60m, 90m, 1h, 1d, 5d, 1wk, 1mo, 3mo]\n",
    "\n",
    "ENDPOINT = \"https://query1.finance.yahoo.com/v8/finance/chart/\"\n",
    "\n",
    "# Stock symbol\n",
    "symbol = \"UCO\"\n",
    "\n",
    "def createURL(sym, ran, inter):\n",
    "    return ENDPOINT+sym+\"?\"+\"range=\"+ran+\"&interval=\"+inter\n"
   ]
  },
  {
   "cell_type": "code",
   "execution_count": 98,
   "metadata": {},
   "outputs": [
    {
     "data": {
      "text/plain": [
       "dict_keys(['high', 'open', 'close', 'volume', 'low'])"
      ]
     },
     "execution_count": 98,
     "metadata": {},
     "output_type": "execute_result"
    }
   ],
   "source": [
    "# Fetching data\n",
    "url = createURL(symbol, \"1y\", \"1d\")\n",
    "req = requests.get(url).json()\n",
    "_rawcolumn_names = list(req['chart']['result'][0])\n",
    "values = req['chart']['result'][0][_rawcolumn_names[2]]['quote'][0]\n",
    "# values.keys()\n",
    "cols = list(values.keys())\n",
    "\n",
    "# Create Dataframe \n",
    "\n",
    "df = pd.DataFrame(columns=cols)\n",
    "df[cols[0]] = values['high']\n",
    "df[cols[1]] = values['open']\n",
    "df[cols[2]] = values['close']\n",
    "df[cols[3]] = values['volume']\n",
    "df[cols[4]] = values['low']\n",
    "df\n"
   ]
  },
  {
   "cell_type": "code",
   "execution_count": 59,
   "metadata": {},
   "outputs": [],
   "source": [
    "# Creating dataframe\n",
    "\n"
   ]
  },
  {
   "cell_type": "code",
   "execution_count": null,
   "metadata": {},
   "outputs": [],
   "source": []
  }
 ],
 "metadata": {
  "kernelspec": {
   "display_name": "Python 3",
   "language": "python",
   "name": "python3"
  },
  "language_info": {
   "codemirror_mode": {
    "name": "ipython",
    "version": 3
   },
   "file_extension": ".py",
   "mimetype": "text/x-python",
   "name": "python",
   "nbconvert_exporter": "python",
   "pygments_lexer": "ipython3",
   "version": "3.7.4"
  }
 },
 "nbformat": 4,
 "nbformat_minor": 2
}
